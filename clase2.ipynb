{
 "cells": [
  {
   "cell_type": "code",
   "execution_count": null,
   "metadata": {},
   "outputs": [],
   "source": []
  },
  {
   "cell_type": "markdown",
   "metadata": {},
   "source": [
    "## listas"
   ]
  },
  {
   "cell_type": "code",
   "execution_count": 3,
   "metadata": {},
   "outputs": [
    {
     "name": "stdout",
     "output_type": "stream",
     "text": [
      "['pera', 'manzana', 'platano']\n",
      "manzana\n"
     ]
    }
   ],
   "source": [
    "mis_frutas=[\"pera\", \"manzana\",\"platano\"]\n",
    "print(mis_frutas)\n",
    "print(mis_frutas[1])"
   ]
  },
  {
   "cell_type": "markdown",
   "metadata": {},
   "source": [
    "## metodos de listas"
   ]
  },
  {
   "cell_type": "code",
   "execution_count": 5,
   "metadata": {},
   "outputs": [
    {
     "name": "stdout",
     "output_type": "stream",
     "text": [
      "['pera', 'manzana', 'platano', 'naranja']\n"
     ]
    }
   ],
   "source": [
    "mis_frutas=[\"pera\", \"manzana\", \"platano\"]\n",
    "mis_frutas.append(\"naranja\")\n",
    "print(mis_frutas)"
   ]
  },
  {
   "cell_type": "code",
   "execution_count": 6,
   "metadata": {},
   "outputs": [
    {
     "data": {
      "text/plain": [
       "'el'"
      ]
     },
     "execution_count": 6,
     "metadata": {},
     "output_type": "execute_result"
    }
   ],
   "source": [
    "pelicula= \"el castillo vagabundo\"\n",
    "pelicula[0:2]\n",
    "pelicula[3:11]"
   ]
  },
  {
   "cell_type": "markdown",
   "metadata": {},
   "source": [
    "## mis numero"
   ]
  },
  {
   "cell_type": "code",
   "execution_count": 7,
   "metadata": {},
   "outputs": [
    {
     "name": "stdout",
     "output_type": "stream",
     "text": [
      "[3, 6, 6, 7, 9, 13, 15, 16, 18, 20]\n",
      "[20, 18, 16, 15, 13, 9, 7, 6, 6, 3]\n",
      "11.3\n",
      "3\n",
      "20\n"
     ]
    }
   ],
   "source": [
    "mis_numero= [15, 20, 6, 18, 7, 6, 9, 3, 16, 13]\n",
    "mis_numero.sort()\n",
    "print (mis_numero)\n",
    "mis_numero.sort(reverse=True)\n",
    "print(mis_numero)\n",
    "mis_numero.count(6)\n",
    "\n",
    "sum(mis_numero)\n",
    "len(mis_numero)\n",
    "\n",
    "promedio= sum(mis_numero)/ len(mis_numero)\n",
    "print(promedio)\n",
    "\n",
    "print(min(mis_numero))\n",
    "\n",
    "print(max(mis_numero))"
   ]
  }
 ],
 "metadata": {
  "kernelspec": {
   "display_name": "Python 3.10.6 64-bit",
   "language": "python",
   "name": "python3"
  },
  "language_info": {
   "codemirror_mode": {
    "name": "ipython",
    "version": 3
   },
   "file_extension": ".py",
   "mimetype": "text/x-python",
   "name": "python",
   "nbconvert_exporter": "python",
   "pygments_lexer": "ipython3",
   "version": "3.10.6"
  },
  "orig_nbformat": 4,
  "vscode": {
   "interpreter": {
    "hash": "9dc3d2dd13272edafd76fc7e61ead9d36bdbdf2cf0c6884894dddd3221a2a1c3"
   }
  }
 },
 "nbformat": 4,
 "nbformat_minor": 2
}
