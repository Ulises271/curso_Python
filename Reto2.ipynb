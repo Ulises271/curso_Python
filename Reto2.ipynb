{
  "cells": [
    {
      "cell_type": "markdown",
      "metadata": {
        "id": "nCjE4hgyjNPT"
      },
      "source": [
        "# Reto 2:\n",
        "\n",
        "---\n",
        "\n"
      ]
    },
    {
      "cell_type": "markdown",
      "metadata": {
        "id": "DUu2A4GtjRV6"
      },
      "source": [
        "## Ejercicio 1: Concicionales Simples\n",
        "\n",
        "Modificaras los _ poniendo el número para que se adecue al Resultado"
      ]
    },
    {
      "cell_type": "markdown",
      "metadata": {
        "id": "m9kuej_pF8GC"
      },
      "source": [
        "### Que todos los resultados den TRUE"
      ]
    },
    {
      "cell_type": "code",
      "execution_count": 5,
      "metadata": {
        "id": "KJaYe7czkj6S"
      },
      "outputs": [
        {
          "data": {
            "text/plain": [
              "True"
            ]
          },
          "execution_count": 5,
          "metadata": {},
          "output_type": "execute_result"
        }
      ],
      "source": [
        "8 > 5"
      ]
    },
    {
      "cell_type": "code",
      "execution_count": 6,
      "metadata": {
        "id": "XUwPxL63F-QB"
      },
      "outputs": [
        {
          "data": {
            "text/plain": [
              "True"
            ]
          },
          "execution_count": 6,
          "metadata": {},
          "output_type": "execute_result"
        }
      ],
      "source": [
        "5 < 8"
      ]
    },
    {
      "cell_type": "code",
      "execution_count": 7,
      "metadata": {
        "id": "57BUeb6XGAD5"
      },
      "outputs": [
        {
          "data": {
            "text/plain": [
              "True"
            ]
          },
          "execution_count": 7,
          "metadata": {},
          "output_type": "execute_result"
        }
      ],
      "source": [
        "18 < 20  "
      ]
    },
    {
      "cell_type": "markdown",
      "metadata": {
        "id": "sycdwGVhkMFA"
      },
      "source": [
        "### Que todos los resultados den False"
      ]
    },
    {
      "cell_type": "code",
      "execution_count": 8,
      "metadata": {
        "id": "P32CXA2zipLd"
      },
      "outputs": [
        {
          "data": {
            "text/plain": [
              "False"
            ]
          },
          "execution_count": 8,
          "metadata": {},
          "output_type": "execute_result"
        }
      ],
      "source": [
        "25 > 57"
      ]
    },
    {
      "cell_type": "code",
      "execution_count": 9,
      "metadata": {
        "id": "jAdMEwLvG9Rh"
      },
      "outputs": [
        {
          "data": {
            "text/plain": [
              "False"
            ]
          },
          "execution_count": 9,
          "metadata": {},
          "output_type": "execute_result"
        }
      ],
      "source": [
        "57 < 25"
      ]
    },
    {
      "cell_type": "code",
      "execution_count": 10,
      "metadata": {
        "id": "VIxjaNoXHAty"
      },
      "outputs": [
        {
          "data": {
            "text/plain": [
              "False"
            ]
          },
          "execution_count": 10,
          "metadata": {},
          "output_type": "execute_result"
        }
      ],
      "source": [
        "58 > 102"
      ]
    },
    {
      "cell_type": "markdown",
      "metadata": {
        "id": "q3ZgvxgbmuEO"
      },
      "source": [
        "## Ejercicio 2: Evaluaciones Complejas\n",
        "\n",
        "Modificaras los _ poniendo el operador que falta para que se adecue al Resultado"
      ]
    },
    {
      "cell_type": "markdown",
      "metadata": {
        "id": "154gcOAonErO"
      },
      "source": [
        "Que todos los resultados den TRUE\n",
        "\n"
      ]
    },
    {
      "cell_type": "code",
      "execution_count": 11,
      "metadata": {
        "id": "08Hx8yB6n3WM"
      },
      "outputs": [
        {
          "data": {
            "text/plain": [
              "True"
            ]
          },
          "execution_count": 11,
          "metadata": {},
          "output_type": "execute_result"
        }
      ],
      "source": [
        "28 <= 56"
      ]
    },
    {
      "cell_type": "code",
      "execution_count": 12,
      "metadata": {
        "id": "3K9jC1L2JqrZ"
      },
      "outputs": [
        {
          "data": {
            "text/plain": [
              "True"
            ]
          },
          "execution_count": 12,
          "metadata": {},
          "output_type": "execute_result"
        }
      ],
      "source": [
        "98 <= 98"
      ]
    },
    {
      "cell_type": "code",
      "execution_count": 13,
      "metadata": {
        "id": "__Xl1c2ZJv5I"
      },
      "outputs": [
        {
          "data": {
            "text/plain": [
              "True"
            ]
          },
          "execution_count": 13,
          "metadata": {},
          "output_type": "execute_result"
        }
      ],
      "source": [
        "26 >= 12"
      ]
    },
    {
      "cell_type": "markdown",
      "metadata": {
        "id": "5nTdHJsUn58G"
      },
      "source": [
        "Que todos los resultados den False"
      ]
    },
    {
      "cell_type": "code",
      "execution_count": 14,
      "metadata": {
        "id": "cbti4yg7oFXZ"
      },
      "outputs": [
        {
          "data": {
            "text/plain": [
              "False"
            ]
          },
          "execution_count": 14,
          "metadata": {},
          "output_type": "execute_result"
        }
      ],
      "source": [
        "86 >= 98"
      ]
    },
    {
      "cell_type": "code",
      "execution_count": 15,
      "metadata": {
        "id": "awSGZn_GJ3Uv"
      },
      "outputs": [
        {
          "data": {
            "text/plain": [
              "False"
            ]
          },
          "execution_count": 15,
          "metadata": {},
          "output_type": "execute_result"
        }
      ],
      "source": [
        "55 <= 54"
      ]
    },
    {
      "cell_type": "code",
      "execution_count": 16,
      "metadata": {
        "id": "JwI0Kim8J3mf"
      },
      "outputs": [
        {
          "data": {
            "text/plain": [
              "False"
            ]
          },
          "execution_count": 16,
          "metadata": {},
          "output_type": "execute_result"
        }
      ],
      "source": [
        "45 <= 35 "
      ]
    },
    {
      "cell_type": "markdown",
      "metadata": {
        "id": "rkLKuewFoeit"
      },
      "source": [
        "## Ejercicio 3: Condicionales Avanzadas"
      ]
    },
    {
      "cell_type": "markdown",
      "metadata": {
        "id": "RopVNIafKxrv"
      },
      "source": [
        "Tendremos una variable llamada `kilometraje` de un coche y queremos saber si debemos mandarlo a servicio\n",
        "\n",
        "Crea una condicional que nos diga que se debe hacer servicio si tiene más de 10000 km \n"
      ]
    },
    {
      "cell_type": "code",
      "execution_count": 17,
      "metadata": {
        "id": "hCICpOwAvruU"
      },
      "outputs": [
        {
          "name": "stdout",
          "output_type": "stream",
          "text": [
            "tiene que mandar su carro a servicio\n"
          ]
        }
      ],
      "source": [
        "kilometraje = 12500\n",
        "\n",
        "if (kilometraje >= 10000):\n",
        "    print(\"tiene que mandar su carro a servicio\")\n",
        "else:\n",
        "    print(\"tu carro no necesita servicio aun \")    "
      ]
    },
    {
      "cell_type": "markdown",
      "metadata": {
        "id": "Y3wQj8Q-O11J"
      },
      "source": [
        "Crea un programa que evalue si Juan puede comprar Alcohol dependiendo de su edad"
      ]
    },
    {
      "cell_type": "code",
      "execution_count": 18,
      "metadata": {
        "id": "IXfHQWx-Rd9u"
      },
      "outputs": [
        {
          "name": "stdout",
          "output_type": "stream",
          "text": [
            "puedes comprar bebidas alcoholicas\n"
          ]
        }
      ],
      "source": [
        "edad_juan = 21\n",
        "\n",
        "if (edad_juan >= 18):\n",
        "    print(\"puedes comprar bebidas alcoholicas\")\n",
        "else:\n",
        "    print(\"aún no tienes edad suficiente para comprar bebidas alcoholicas\")    "
      ]
    },
    {
      "cell_type": "markdown",
      "metadata": {
        "id": "qXscApZ7R84a"
      },
      "source": [
        "Modifica el programa de **Evaluar el número más grande** para que en los prints, te aparesca los números que se dieron en el input\n",
        "\n",
        "Ejemplo\n",
        "\n",
        "**12 es mayor que 9**"
      ]
    },
    {
      "cell_type": "code",
      "execution_count": 23,
      "metadata": {
        "id": "0zrN9FzoSNnc"
      },
      "outputs": [
        {
          "name": "stdout",
          "output_type": "stream",
          "text": [
            "80 es mayor que 20\n"
          ]
        }
      ],
      "source": [
        "numero_uno=int(input(\"ingrese el primer numero\"))\n",
        "numero_dos=int(input(\"ingrese el segundo numero\"))\n",
        "if (numero_uno > numero_dos):\n",
        "    print(f\"{numero_uno} es mayor que {numero_dos}\" )\n",
        "elif (numero_dos > numero_uno):\n",
        "        print(f\"{numero_dos} es maoy que {numero_uno}\")\n",
        "else:  \n",
        "      print(\"los dos numeros son iguales\")     \n",
        "     "
      ]
    },
    {
      "cell_type": "code",
      "execution_count": 27,
      "metadata": {},
      "outputs": [
        {
          "name": "stdout",
          "output_type": "stream",
          "text": [
            "usted trabajo 60 horas, por ende recibiras 890\n"
          ]
        }
      ],
      "source": [
        "horas_trabajadas=int(input(\"ingrese las horas trabajadas\"))\n",
        "sueldo = int(input(\"sueldo\"))\n",
        "if horas_trabajadas>50:\n",
        "    horas = (horas_trabajadas-50)*3 + 20 +39\n",
        "elif horas_trabajadas>40:\n",
        "    horas=(horas_trabajadas-40)*2+39\n",
        "else:\n",
        "    horas=horas_trabajadas\n",
        "\n",
        "pago = horas * sueldo\n",
        "\n",
        "print(f\"usted trabajo {horas_trabajadas} horas, por ende recibiras {pago}\")\n"
      ]
    },
    {
      "cell_type": "markdown",
      "metadata": {
        "id": "C5jtrBn7x5KE"
      },
      "source": [
        "## Extra Points"
      ]
    },
    {
      "cell_type": "markdown",
      "metadata": {
        "id": "J1CV99N7x7RB"
      },
      "source": [
        "Determinar el pago semanal de un trabajador, solicitando su sueldo x hora y horas trabajadas con base en la siguiente relación:\n",
        "\n",
        "Si trabajó entre 1 y 39 horas, se le paga su sueldo de hora normal\n",
        "\n",
        "Si trabajó entre 40 y 49 horas, se le pagan 39 normal y las demas al doble\n",
        "\n",
        "Si trabajó 50 o más, se le pagan 39 hora normal, 10 horas dobles y las demas al triple\n"
      ]
    }
  ],
  "metadata": {
    "colab": {
      "collapsed_sections": [],
      "name": "Copia de Reto2.ipynb",
      "provenance": []
    },
    "kernelspec": {
      "display_name": "Python 3.10.6 64-bit",
      "language": "python",
      "name": "python3"
    },
    "language_info": {
      "codemirror_mode": {
        "name": "ipython",
        "version": 3
      },
      "file_extension": ".py",
      "mimetype": "text/x-python",
      "name": "python",
      "nbconvert_exporter": "python",
      "pygments_lexer": "ipython3",
      "version": "3.10.6"
    },
    "vscode": {
      "interpreter": {
        "hash": "9dc3d2dd13272edafd76fc7e61ead9d36bdbdf2cf0c6884894dddd3221a2a1c3"
      }
    }
  },
  "nbformat": 4,
  "nbformat_minor": 0
}
